{
 "cells": [
  {
   "cell_type": "markdown",
   "metadata": {},
   "source": [
    "## Imports"
   ]
  },
  {
   "cell_type": "code",
   "execution_count": 1,
   "metadata": {},
   "outputs": [],
   "source": [
    "import os\n",
    "import numpy as np\n",
    "import pandas as pd\n",
    "pd.set_option('display.float_format', '{:.5f}'.format)\n",
    "import matplotlib.pyplot as plt\n",
    "%matplotlib inline\n",
    "from IPython.core.pylabtools import figsize\n",
    "figsize(5, 5)"
   ]
  },
  {
   "cell_type": "code",
   "execution_count": 2,
   "metadata": {},
   "outputs": [],
   "source": [
    "from sklearn.linear_model import LinearRegression"
   ]
  },
  {
   "cell_type": "code",
   "execution_count": 3,
   "metadata": {},
   "outputs": [],
   "source": [
    "from utils import add_remaining_useful_life"
   ]
  },
  {
   "cell_type": "code",
   "execution_count": 4,
   "metadata": {},
   "outputs": [],
   "source": [
    "from sklearn.metrics import mean_squared_error, r2_score\n",
    "def evaluate(y_true, y_hat, label='test'):\n",
    "    mse = mean_squared_error(y_true, y_hat)\n",
    "    rmse = np.sqrt(mse)\n",
    "    variance = r2_score(y_true, y_hat)\n",
    "    print('{} set RMSE:{}, R2:{}'.format(label, rmse, variance))"
   ]
  },
  {
   "cell_type": "markdown",
   "metadata": {},
   "source": [
    "## Load Data"
   ]
  },
  {
   "cell_type": "code",
   "execution_count": 5,
   "metadata": {},
   "outputs": [],
   "source": [
    "folder = 'data'\n",
    "dataset = 'FD001'\n",
    "index_cols = ['unit_number', 'time_cycle']\n",
    "setting_cols = ['os_1', 'os_2', 'os_3']\n",
    "sensor_cols = ['s_' + str(num) for num in range(1, 22)]\n",
    "cols = index_cols + setting_cols + sensor_cols\n",
    "train = pd.read_csv(os.path.join(folder, f'train_{dataset}.txt'), header=None, sep='\\s+', names=cols)\n",
    "train = add_remaining_useful_life(train)\n",
    "X_test = pd.read_csv(os.path.join(folder, f'test_{dataset}.txt'), header=None, sep='\\s+', names=cols)\n",
    "y_test = pd.read_csv(os.path.join(folder, f'RUL_{dataset}.txt'), header=None, names=['RUL'])"
   ]
  },
  {
   "cell_type": "markdown",
   "metadata": {},
   "source": [
    "## Data Setup"
   ]
  },
  {
   "cell_type": "markdown",
   "metadata": {},
   "source": [
    "###  Configure Test set"
   ]
  },
  {
   "cell_type": "code",
   "execution_count": 6,
   "metadata": {},
   "outputs": [],
   "source": [
    "test_max_cycles = X_test[index_cols].groupby('unit_number').max('time_cycle').reset_index().sort_values('unit_number')\n",
    "test_max_cycles['RUL'] = y_test\n",
    "test = pd.merge(X_test, test_max_cycles, on=['unit_number', 'time_cycle'], how='left')"
   ]
  },
  {
   "cell_type": "markdown",
   "metadata": {},
   "source": [
    "### Scaling"
   ]
  },
  {
   "cell_type": "code",
   "execution_count": 7,
   "metadata": {},
   "outputs": [],
   "source": [
    "from sklearn.preprocessing import MinMaxScaler\n",
    "sc = MinMaxScaler()\n",
    "train[train.columns[2:26]] = sc.fit_transform(train[train.columns[2:26]])\n",
    "test[test.columns[2:26]] = sc.transform(test[test.columns[2:26]])"
   ]
  },
  {
   "cell_type": "markdown",
   "metadata": {},
   "source": [
    "### Clipping training values"
   ]
  },
  {
   "cell_type": "code",
   "execution_count": 71,
   "metadata": {},
   "outputs": [],
   "source": [
    "max_rul = 130\n",
    "clip = True\n",
    "if clip:\n",
    "    train['RUL'] = train['RUL'].clip(upper=max_rul)"
   ]
  },
  {
   "cell_type": "markdown",
   "metadata": {},
   "source": [
    "### Feature Selection"
   ]
  },
  {
   "cell_type": "code",
   "execution_count": 8,
   "metadata": {},
   "outputs": [],
   "source": [
    "drop_by_corr = True\n",
    "if drop_by_corr:\n",
    "    corrs = train.corr()['RUL']\n",
    "    cols_to_drop = list(corrs[(np.abs(corrs) < 0.01) |\n",
    "          (pd.isnull(corrs))].index.values)\n",
    "else:\n",
    "    cols_to_drop = []\n",
    "    \n",
    "X_train = train.drop(cols_to_drop + index_cols + ['RUL'], axis=1)\n",
    "y_train = train['RUL']"
   ]
  },
  {
   "cell_type": "markdown",
   "metadata": {},
   "source": [
    "### Recurrent Structure"
   ]
  },
  {
   "cell_type": "code",
   "execution_count": 72,
   "metadata": {},
   "outputs": [],
   "source": [
    "def create_dataset(X, y, lookback=1):\n",
    "    dataX, dataY = [], []\n",
    "    for i in range(len(X) - lookback):\n",
    "        a = X[i: (i + lookback)]\n",
    "        dataX.append(a)\n",
    "        dataY.append(y[i + lookback])\n",
    "    return np.array(dataX), np.array(dataY)"
   ]
  },
  {
   "cell_type": "code",
   "execution_count": 82,
   "metadata": {},
   "outputs": [],
   "source": [
    "unit_train = []\n",
    "for unit in train.unit_number.unique():\n",
    "    unit_data = train[train.unit_number == unit].sort_values('time_cycle').reset_index(drop=True)\n",
    "    unit_train.append(unit_data)"
   ]
  },
  {
   "cell_type": "code",
   "execution_count": 97,
   "metadata": {},
   "outputs": [],
   "source": [
    "def augment_data(unit_data, lmbda):\n",
    "    max_len = len(unit_data)\n",
    "    temp = unit_train[0].diff()\n",
    "    kink_point = temp[temp.RUL == -1].head(1).index.values[0]\n",
    "    new_data = []\n",
    "    for _ in range(lmbda):\n",
    "        cutoff = np.random.randint(kink_point, max_len)\n",
    "        data = unit_data.iloc[0: cutoff]\n",
    "        new_data.append(data)\n",
    "    return new_data"
   ]
  },
  {
   "cell_type": "code",
   "execution_count": 116,
   "metadata": {},
   "outputs": [],
   "source": [
    "from functools import reduce\n",
    "lmbda = 5\n",
    "unit_train_aug = reduce(lambda x, y: x + y, [augment_data(unit_data, lmbda) for unit_data in unit_train])"
   ]
  },
  {
   "cell_type": "code",
   "execution_count": 118,
   "metadata": {},
   "outputs": [
    {
     "name": "stdout",
     "output_type": "stream",
     "text": [
      "(51206, 30, 15)\n",
      "(51206,)\n"
     ]
    }
   ],
   "source": [
    "lookback = 30\n",
    "trainX, trainY = [], []\n",
    "for data in unit_train_aug:\n",
    "    unit_x = data.drop(index_cols + cols_to_drop + ['RUL'], axis=1).values\n",
    "    unit_y = data['RUL'].values\n",
    "    X, Y = create_dataset(unit_x, unit_y, lookback)\n",
    "    trainX.append(X)\n",
    "    trainY.append(Y)\n",
    "    \n",
    "trainX = np.concatenate(trainX)\n",
    "trainY = np.concatenate(trainY)\n",
    "print(trainX.shape)\n",
    "print(trainY.shape)"
   ]
  },
  {
   "cell_type": "code",
   "execution_count": 119,
   "metadata": {},
   "outputs": [],
   "source": [
    "unit_test = []\n",
    "for unit in test.unit_number.unique():\n",
    "    unit_data = test[test.unit_number == unit].sort_values('time_cycle')\n",
    "    unit_test.append(unit_data)"
   ]
  },
  {
   "cell_type": "code",
   "execution_count": 120,
   "metadata": {},
   "outputs": [
    {
     "name": "stdout",
     "output_type": "stream",
     "text": [
      "(10096, 30, 15)\n",
      "(10096,)\n"
     ]
    }
   ],
   "source": [
    "testX, testY = [], []\n",
    "for data in unit_test:\n",
    "    unit_x = data.drop(index_cols + cols_to_drop + ['RUL'], axis=1).values\n",
    "    unit_y = data['RUL'].values\n",
    "    X, Y = create_dataset(unit_x, unit_y, lookback)\n",
    "    testX.append(X)\n",
    "    testY.append(Y)\n",
    "    \n",
    "testX = np.concatenate(testX)\n",
    "testY = np.concatenate(testY)\n",
    "print(testX.shape)\n",
    "print(testY.shape)"
   ]
  },
  {
   "cell_type": "code",
   "execution_count": 121,
   "metadata": {},
   "outputs": [],
   "source": [
    "testXlast = testX[~np.isnan(testY)]\n",
    "testYlast = testY[~np.isnan(testY)]"
   ]
  },
  {
   "cell_type": "markdown",
   "metadata": {},
   "source": [
    "## Model Setup"
   ]
  },
  {
   "cell_type": "code",
   "execution_count": 122,
   "metadata": {},
   "outputs": [],
   "source": [
    "import tensorflow as tf\n",
    "from tensorflow import keras"
   ]
  },
  {
   "cell_type": "code",
   "execution_count": 123,
   "metadata": {},
   "outputs": [
    {
     "name": "stdout",
     "output_type": "stream",
     "text": [
      "Model: \"sequential_15\"\n",
      "_________________________________________________________________\n",
      "Layer (type)                 Output Shape              Param #   \n",
      "=================================================================\n",
      "lstm_19 (LSTM)               (None, 30, 50)            13200     \n",
      "_________________________________________________________________\n",
      "dropout_13 (Dropout)         (None, 30, 50)            0         \n",
      "_________________________________________________________________\n",
      "lstm_20 (LSTM)               (None, 50)                20200     \n",
      "_________________________________________________________________\n",
      "dropout_14 (Dropout)         (None, 50)                0         \n",
      "_________________________________________________________________\n",
      "dense_16 (Dense)             (None, 1)                 51        \n",
      "=================================================================\n",
      "Total params: 33,451\n",
      "Trainable params: 33,451\n",
      "Non-trainable params: 0\n",
      "_________________________________________________________________\n",
      "None\n"
     ]
    }
   ],
   "source": [
    "model = keras.Sequential()\n",
    "#input\n",
    "model.add(keras.layers.LSTM(units=50, return_sequences='true',\n",
    "input_shape = (trainX.shape[1], trainX.shape[2])) )\n",
    "model.add(keras.layers.Dropout(0.2))\n",
    "#hidden layer 1\n",
    "#model.add(keras.layers.LSTM(units=50, return_sequences='true'))\n",
    "#model.add(keras.layers.Dropout(0.2))\n",
    "#hidden layer 2\n",
    "model.add(keras.layers.LSTM(units=50))\n",
    "model.add(keras.layers.Dropout(0.2))\n",
    "#output\n",
    "model.add(keras.layers.Dense(units=1))\n",
    "model.compile(loss='mean_squared_error', optimizer='adam', metrics=[keras.metrics.RootMeanSquaredError()])\n",
    "print(model.summary())"
   ]
  },
  {
   "cell_type": "code",
   "execution_count": 61,
   "metadata": {},
   "outputs": [
    {
     "name": "stdout",
     "output_type": "stream",
     "text": [
      "Model: \"sequential_14\"\n",
      "_________________________________________________________________\n",
      "Layer (type)                 Output Shape              Param #   \n",
      "=================================================================\n",
      "conv1d_34 (Conv1D)           (None, 30, 18)            558       \n",
      "_________________________________________________________________\n",
      "max_pooling1d_34 (MaxPooling (None, 15, 18)            0         \n",
      "_________________________________________________________________\n",
      "conv1d_35 (Conv1D)           (None, 15, 36)            1332      \n",
      "_________________________________________________________________\n",
      "max_pooling1d_35 (MaxPooling (None, 8, 36)             0         \n",
      "_________________________________________________________________\n",
      "conv1d_36 (Conv1D)           (None, 8, 72)             5256      \n",
      "_________________________________________________________________\n",
      "max_pooling1d_36 (MaxPooling (None, 4, 72)             0         \n",
      "_________________________________________________________________\n",
      "reshape_18 (Reshape)         (None, 288)               0         \n",
      "_________________________________________________________________\n",
      "dense_14 (Dense)             (None, 450)               130050    \n",
      "_________________________________________________________________\n",
      "reshape_19 (Reshape)         (None, 30, 15)            0         \n",
      "_________________________________________________________________\n",
      "lstm_17 (LSTM)               (None, 30, 50)            13200     \n",
      "_________________________________________________________________\n",
      "dropout_11 (Dropout)         (None, 30, 50)            0         \n",
      "_________________________________________________________________\n",
      "lstm_18 (LSTM)               (None, 50)                20200     \n",
      "_________________________________________________________________\n",
      "dropout_12 (Dropout)         (None, 50)                0         \n",
      "_________________________________________________________________\n",
      "dense_15 (Dense)             (None, 1)                 51        \n",
      "=================================================================\n",
      "Total params: 170,647\n",
      "Trainable params: 170,647\n",
      "Non-trainable params: 0\n",
      "_________________________________________________________________\n",
      "None\n"
     ]
    }
   ],
   "source": [
    "model = keras.Sequential()\n",
    "# Conv 1\n",
    "model.add(keras.layers.Conv1D(filters=18, kernel_size=2, strides=1, padding='same',\n",
    "    input_shape=(trainX.shape[1], trainX.shape[2])))\n",
    "model.add(keras.layers.MaxPooling1D(pool_size=2, strides=2, padding='same'))\n",
    "\n",
    "# Conv 2\n",
    "model.add(keras.layers.Conv1D(filters=36, kernel_size=2, strides=1, padding='same'))\n",
    "model.add(keras.layers.MaxPooling1D(pool_size=2, strides=2, padding='same'))\n",
    "\n",
    "# Conv 3\n",
    "model.add(keras.layers.Conv1D(filters=72, kernel_size=2, strides=1, padding='same'))\n",
    "model.add(keras.layers.MaxPooling1D(pool_size=2, strides=2, padding='same'))\n",
    "\n",
    "# Flatten\n",
    "shape = model.get_layer(index=-1).output_shape\n",
    "model.add(keras.layers.Reshape([shape[1] * shape[2]]))\n",
    "\n",
    "# Dense Layer\n",
    "model.add(keras.layers.Dense(trainX.shape[1] * trainX.shape[2], activation='relu'))\n",
    "\n",
    "# Reshape\n",
    "model.add(keras.layers.Reshape([trainX.shape[1], trainX.shape[2]]))\n",
    "\n",
    "# LSTM 1\n",
    "model.add(keras.layers.LSTM(units=50, return_sequences=True))\n",
    "model.add(keras.layers.Dropout(0.2))\n",
    "\n",
    "# LSTM 2\n",
    "model.add(keras.layers.LSTM(units=50))\n",
    "model.add(keras.layers.Dropout(0.2))\n",
    "\n",
    "# Output \n",
    "model.add(keras.layers.Dense(units=1))\n",
    "model.compile(loss='mean_squared_error', optimizer='adam', metrics=[keras.metrics.RootMeanSquaredError()])\n",
    "print(model.summary())"
   ]
  },
  {
   "cell_type": "code",
   "execution_count": 124,
   "metadata": {},
   "outputs": [
    {
     "name": "stdout",
     "output_type": "stream",
     "text": [
      "Train on 51206 samples, validate on 100 samples\n",
      "Epoch 1/15\n",
      "51206/51206 [==============================] - 18s 351us/sample - loss: 4964.9409 - root_mean_squared_error: 70.4623 - val_loss: 1728.2187 - val_root_mean_squared_error: 41.5718\n",
      "Epoch 2/15\n",
      "51206/51206 [==============================] - 13s 255us/sample - loss: 1269.2501 - root_mean_squared_error: 35.6265 - val_loss: 2399.7155 - val_root_mean_squared_error: 48.9869\n",
      "Epoch 3/15\n",
      "51206/51206 [==============================] - 13s 248us/sample - loss: 1029.4645 - root_mean_squared_error: 32.0853 - val_loss: 2553.6702 - val_root_mean_squared_error: 50.5339\n",
      "Epoch 4/15\n",
      "51206/51206 [==============================] - 13s 248us/sample - loss: 1026.7964 - root_mean_squared_error: 32.0437 - val_loss: 2550.8024 - val_root_mean_squared_error: 50.5055\n",
      "Epoch 5/15\n",
      "51206/51206 [==============================] - 13s 250us/sample - loss: 1029.2755 - root_mean_squared_error: 32.0823 - val_loss: 2560.1482 - val_root_mean_squared_error: 50.5979\n",
      "Epoch 6/15\n",
      "51206/51206 [==============================] - 13s 249us/sample - loss: 1024.6274 - root_mean_squared_error: 32.0098 - val_loss: 2573.5863 - val_root_mean_squared_error: 50.7305\n",
      "Epoch 7/15\n",
      "51206/51206 [==============================] - 13s 251us/sample - loss: 458.6662 - root_mean_squared_error: 21.4165 - val_loss: 266.2459 - val_root_mean_squared_error: 16.3170\n",
      "Epoch 8/15\n",
      "51206/51206 [==============================] - 13s 245us/sample - loss: 307.8863 - root_mean_squared_error: 17.5467 - val_loss: 292.7867 - val_root_mean_squared_error: 17.1110\n",
      "Epoch 9/15\n",
      "51206/51206 [==============================] - 12s 241us/sample - loss: 294.5646 - root_mean_squared_error: 17.1629 - val_loss: 234.2110 - val_root_mean_squared_error: 15.3040\n",
      "Epoch 10/15\n",
      "51206/51206 [==============================] - 13s 249us/sample - loss: 283.9381 - root_mean_squared_error: 16.8505 - val_loss: 250.7910 - val_root_mean_squared_error: 15.8364\n",
      "Epoch 11/15\n",
      "51206/51206 [==============================] - 12s 240us/sample - loss: 280.7966 - root_mean_squared_error: 16.7570 - val_loss: 220.6613 - val_root_mean_squared_error: 14.8547\n",
      "Epoch 12/15\n",
      "51206/51206 [==============================] - 13s 250us/sample - loss: 274.5124 - root_mean_squared_error: 16.5684 - val_loss: 239.1955 - val_root_mean_squared_error: 15.4659\n",
      "Epoch 13/15\n",
      "51206/51206 [==============================] - 13s 245us/sample - loss: 272.5033 - root_mean_squared_error: 16.5077 - val_loss: 286.3299 - val_root_mean_squared_error: 16.9213\n",
      "Epoch 14/15\n",
      "51206/51206 [==============================] - 12s 244us/sample - loss: 270.4958 - root_mean_squared_error: 16.4468 - val_loss: 257.0497 - val_root_mean_squared_error: 16.0328\n",
      "Epoch 15/15\n",
      "51206/51206 [==============================] - 13s 249us/sample - loss: 267.9227 - root_mean_squared_error: 16.3683 - val_loss: 250.6756 - val_root_mean_squared_error: 15.8327\n"
     ]
    }
   ],
   "source": [
    "history = model.fit(trainX, trainY, batch_size=32, epochs=15, validation_data=(testXlast, testYlast))"
   ]
  },
  {
   "cell_type": "code",
   "execution_count": 125,
   "metadata": {},
   "outputs": [],
   "source": [
    "y_train_pred = model.predict(trainX)"
   ]
  },
  {
   "cell_type": "code",
   "execution_count": 126,
   "metadata": {},
   "outputs": [
    {
     "name": "stdout",
     "output_type": "stream",
     "text": [
      "train set RMSE:14.275353999973657, R2:0.7908714505233093\n",
      "test set RMSE:15.832739645572484, R2:0.854838115926945\n"
     ]
    }
   ],
   "source": [
    "evaluate(trainY, y_train_pred, label='train')\n",
    "evaluate(testYlast, model.predict(testXlast), label='test')"
   ]
  },
  {
   "cell_type": "code",
   "execution_count": null,
   "metadata": {},
   "outputs": [],
   "source": []
  },
  {
   "cell_type": "code",
   "execution_count": null,
   "metadata": {},
   "outputs": [],
   "source": []
  },
  {
   "cell_type": "code",
   "execution_count": 64,
   "metadata": {},
   "outputs": [
    {
     "name": "stdout",
     "output_type": "stream",
     "text": [
      "train set RMSE:12.420537829743934, R2:0.9178222526940844\n",
      "test set RMSE:16.215651097524344, R2:0.8477317913775062\n"
     ]
    }
   ],
   "source": [
    "evaluate(trainY, y_train_pred, label='train')\n",
    "evaluate(testYlast, model.predict(testXlast), label='test')"
   ]
  },
  {
   "cell_type": "code",
   "execution_count": null,
   "metadata": {},
   "outputs": [],
   "source": []
  },
  {
   "cell_type": "code",
   "execution_count": null,
   "metadata": {},
   "outputs": [],
   "source": []
  },
  {
   "cell_type": "code",
   "execution_count": null,
   "metadata": {},
   "outputs": [],
   "source": []
  },
  {
   "cell_type": "markdown",
   "metadata": {},
   "source": [
    "## Inspect Predictions"
   ]
  },
  {
   "cell_type": "code",
   "execution_count": 213,
   "metadata": {},
   "outputs": [],
   "source": [
    "train_sub = train[train.time_cycle > lookback].copy()\n",
    "train_sub['pred'] = y_train_pred"
   ]
  },
  {
   "cell_type": "code",
   "execution_count": 225,
   "metadata": {},
   "outputs": [
    {
     "data": {
      "text/plain": [
       "<AxesSubplot:xlabel='time_cycle'>"
      ]
     },
     "execution_count": 225,
     "metadata": {},
     "output_type": "execute_result"
    },
    {
     "data": {
      "image/png": "[encoded data removed]",
      "text/plain": [
       "<Figure size 360x360 with 1 Axes>"
      ]
     },
     "metadata": {
      "needs_background": "light"
     },
     "output_type": "display_data"
    }
   ],
   "source": [
    "unit = 11\n",
    "train_sub[train_sub.unit_number == unit].plot(x='time_cycle', y=['RUL', 'pred'], kind='line')"
   ]
  },
  {
   "cell_type": "code",
   "execution_count": null,
   "metadata": {},
   "outputs": [],
   "source": []
  }
 ],
 "metadata": {
  "kernelspec": {
   "display_name": "Python [conda env:predmain] *",
   "language": "python",
   "name": "conda-env-predmain-py"
  },
  "language_info": {
   "codemirror_mode": {
    "name": "ipython",
    "version": 3
   },
   "file_extension": ".py",
   "mimetype": "text/x-python",
   "name": "python",
   "nbconvert_exporter": "python",
   "pygments_lexer": "ipython3",
   "version": "3.7.8"
  }
 },
 "nbformat": 4,
 "nbformat_minor": 4
}
