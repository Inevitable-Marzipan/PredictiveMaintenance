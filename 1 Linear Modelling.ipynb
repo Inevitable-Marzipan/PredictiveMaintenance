{
 "cells": [
  {
   "cell_type": "markdown",
   "metadata": {},
   "source": [
    "## Imports"
   ]
  },
  {
   "cell_type": "code",
   "execution_count": 70,
   "metadata": {},
   "outputs": [],
   "source": [
    "import os\n",
    "import numpy as np\n",
    "import pandas as pd\n",
    "pd.set_option('display.float_format', '{:.5f}'.format)\n",
    "import matplotlib.pyplot as plt\n",
    "%matplotlib inline\n",
    "from IPython.core.pylabtools import figsize\n",
    "figsize(5, 5)"
   ]
  },
  {
   "cell_type": "code",
   "execution_count": null,
   "metadata": {},
   "outputs": [],
   "source": [
    "from sklearn.linear_model import LinearRegression"
   ]
  },
  {
   "cell_type": "code",
   "execution_count": 5,
   "metadata": {},
   "outputs": [],
   "source": [
    "from utils import add_remaining_useful_life"
   ]
  },
  {
   "cell_type": "code",
   "execution_count": 6,
   "metadata": {},
   "outputs": [],
   "source": [
    "from sklearn.metrics import mean_squared_error, r2_score\n",
    "def evaluate(y_true, y_hat, label='test'):\n",
    "    mse = mean_squared_error(y_true, y_hat)\n",
    "    rmse = np.sqrt(mse)\n",
    "    variance = r2_score(y_true, y_hat)\n",
    "    print('{} set RMSE:{}, R2:{}'.format(label, rmse, variance))"
   ]
  },
  {
   "cell_type": "markdown",
   "metadata": {},
   "source": [
    "## Load Data"
   ]
  },
  {
   "cell_type": "code",
   "execution_count": 103,
   "metadata": {},
   "outputs": [],
   "source": [
    "folder = 'data'\n",
    "dataset = 'FD001'\n",
    "index_cols = ['unit_number', 'time_cycle']\n",
    "setting_cols = ['os_1', 'os_2', 'os_3']\n",
    "sensor_cols = ['s_' + str(num) for num in range(1, 22)]\n",
    "cols = index_cols + setting_cols + sensor_cols\n",
    "train = pd.read_csv(os.path.join(folder, f'train_{dataset}.txt'), header=None, sep='\\s+', names=cols)\n",
    "train = add_remaining_useful_life(train)\n",
    "X_test = pd.read_csv(os.path.join(folder, f'test_{dataset}.txt'), header=None, sep='\\s+', names=cols)\n",
    "y_test = pd.read_csv(os.path.join(folder, f'RUL_{dataset}.txt'), header=None, names=['RUL'])"
   ]
  },
  {
   "cell_type": "markdown",
   "metadata": {},
   "source": [
    "## Data Setup"
   ]
  },
  {
   "cell_type": "code",
   "execution_count": 104,
   "metadata": {},
   "outputs": [],
   "source": [
    "test_max_cycles = X_test[index_cols].groupby('unit_number').max('time_cycle').reset_index().sort_values('unit_number')\n",
    "test_max_cycles['RUL'] = y_test\n",
    "test = pd.merge(X_test, test_max_cycles, on=['unit_number', 'time_cycle'], how='left')\n",
    "X_test_last = test.groupby('unit_number').last().reset_index()"
   ]
  },
  {
   "cell_type": "code",
   "execution_count": 105,
   "metadata": {},
   "outputs": [],
   "source": [
    "drop_by_corr = False\n",
    "if drop_by_corr:\n",
    "    corrs = train.corr()['RUL']\n",
    "    cols_to_drop = list(corrs[(np.abs(corrs) < 0.01) |\n",
    "          (pd.isnull(corrs))].index.values)\n",
    "else:\n",
    "    cols_to_drop = []\n",
    "X_train = train.drop(cols_to_drop + index_cols + ['RUL'], axis=1)\n",
    "y_train = train['RUL']\n",
    "X_test_last = X_test_last.drop(cols_to_drop + index_cols + ['RUL'], axis=1)"
   ]
  },
  {
   "cell_type": "markdown",
   "metadata": {},
   "source": [
    "## Model"
   ]
  },
  {
   "cell_type": "code",
   "execution_count": 42,
   "metadata": {},
   "outputs": [],
   "source": [
    "reg = LinearRegression()"
   ]
  },
  {
   "cell_type": "code",
   "execution_count": 43,
   "metadata": {},
   "outputs": [
    {
     "data": {
      "text/plain": [
       "LinearRegression()"
      ]
     },
     "execution_count": 43,
     "metadata": {},
     "output_type": "execute_result"
    }
   ],
   "source": [
    "reg.fit(X_train, y_train)"
   ]
  },
  {
   "cell_type": "code",
   "execution_count": 44,
   "metadata": {},
   "outputs": [
    {
     "name": "stdout",
     "output_type": "stream",
     "text": [
      "train set RMSE:44.660359801722706, R2:0.5795961126406295\n",
      "test set RMSE:32.04109478173762, R2:0.4054954961206719\n"
     ]
    }
   ],
   "source": [
    "evaluate(y_train, reg.predict(X_train), label='train')\n",
    "evaluate(y_test, reg.predict(X_test_last), label='test')"
   ]
  },
  {
   "cell_type": "code",
   "execution_count": null,
   "metadata": {},
   "outputs": [],
   "source": []
  },
  {
   "cell_type": "markdown",
   "metadata": {},
   "source": [
    "## Clip Training Values"
   ]
  },
  {
   "cell_type": "code",
   "execution_count": 49,
   "metadata": {},
   "outputs": [],
   "source": [
    "max_rul = 130\n",
    "y_train_clip = y_train.clip(upper=max_rul)"
   ]
  },
  {
   "cell_type": "code",
   "execution_count": 50,
   "metadata": {},
   "outputs": [],
   "source": [
    "reg_clip = LinearRegression()"
   ]
  },
  {
   "cell_type": "code",
   "execution_count": 51,
   "metadata": {},
   "outputs": [
    {
     "data": {
      "text/plain": [
       "LinearRegression()"
      ]
     },
     "execution_count": 51,
     "metadata": {},
     "output_type": "execute_result"
    }
   ],
   "source": [
    "reg_clip.fit(X_train, y_train_clip)"
   ]
  },
  {
   "cell_type": "code",
   "execution_count": 52,
   "metadata": {},
   "outputs": [
    {
     "name": "stdout",
     "output_type": "stream",
     "text": [
      "train set RMSE:50.98711458542331, R2:0.4520471893378023\n",
      "test set RMSE:22.06606158416156, R2:0.7180383082567376\n"
     ]
    }
   ],
   "source": [
    "evaluate(y_train, reg_clip.predict(X_train), label='train')\n",
    "evaluate(y_test, reg_clip.predict(X_test_last), label='test')"
   ]
  },
  {
   "cell_type": "code",
   "execution_count": null,
   "metadata": {},
   "outputs": [],
   "source": []
  },
  {
   "cell_type": "markdown",
   "metadata": {},
   "source": [
    "## Examine Predictions"
   ]
  },
  {
   "cell_type": "code",
   "execution_count": 74,
   "metadata": {},
   "outputs": [],
   "source": [
    "unit = 4\n",
    "model = reg\n",
    "train['pred'] = model.predict(X_train)\n",
    "#unit_y = train.loc[train.unit_number == unit, 'RUL']\n",
    "#unit_pred = train.loc[train.unit_number == unit, 'pred']"
   ]
  },
  {
   "cell_type": "code",
   "execution_count": 73,
   "metadata": {},
   "outputs": [
    {
     "data": {
      "text/plain": [
       "<AxesSubplot:xlabel='time_cycle'>"
      ]
     },
     "execution_count": 73,
     "metadata": {},
     "output_type": "execute_result"
    },
    {
     "data": {
      "image/png": "[encoded data removed]",
      "text/plain": [
       "<Figure size 360x360 with 1 Axes>"
      ]
     },
     "metadata": {
      "needs_background": "light"
     },
     "output_type": "display_data"
    }
   ],
   "source": [
    "train[train.unit_number == unit].plot(x='time_cycle', y=['RUL', 'pred'], kind='line')"
   ]
  },
  {
   "cell_type": "code",
   "execution_count": 75,
   "metadata": {},
   "outputs": [
    {
     "data": {
      "text/plain": [
       "<AxesSubplot:xlabel='time_cycle'>"
      ]
     },
     "execution_count": 75,
     "metadata": {},
     "output_type": "execute_result"
    },
    {
     "data": {
      "image/png": "[encoded data removed]",
      "text/plain": [
       "<Figure size 360x360 with 1 Axes>"
      ]
     },
     "metadata": {
      "needs_background": "light"
     },
     "output_type": "display_data"
    }
   ],
   "source": [
    "train[train.unit_number == unit].plot(x='time_cycle', y=['RUL', 'pred'], kind='line')"
   ]
  }
 ],
 "metadata": {
  "kernelspec": {
   "display_name": "Python [conda env:predmain] *",
   "language": "python",
   "name": "conda-env-predmain-py"
  },
  "language_info": {
   "codemirror_mode": {
    "name": "ipython",
    "version": 3
   },
   "file_extension": ".py",
   "mimetype": "text/x-python",
   "name": "python",
   "nbconvert_exporter": "python",
   "pygments_lexer": "ipython3",
   "version": "3.7.8"
  }
 },
 "nbformat": 4,
 "nbformat_minor": 4
}
